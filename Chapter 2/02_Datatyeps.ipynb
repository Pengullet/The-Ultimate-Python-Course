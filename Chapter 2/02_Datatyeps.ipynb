{
 "cells": [
  {
   "cell_type": "markdown",
   "metadata": {},
   "source": [
    "### Datatypes"
   ]
  },
  {
   "cell_type": "code",
   "execution_count": null,
   "metadata": {},
   "outputs": [],
   "source": [
    "a = 1 # a is an integer\n",
    "b = 5.22 # b is an floating point number\n",
    "c = \"Noddy\" # c is a string\n",
    "d = True # d is a boolean variable\n",
    "e = None # e is a none type variable"
   ]
  }
 ],
 "metadata": {
  "language_info": {
   "name": "python"
  }
 },
 "nbformat": 4,
 "nbformat_minor": 2
}
