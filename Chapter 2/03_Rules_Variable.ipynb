{
 "cells": [
  {
   "cell_type": "code",
   "execution_count": null,
   "metadata": {},
   "outputs": [],
   "source": [
    "Noddy = 1\n",
    "nODDY = 2\n",
    "#@Noddy = 1 # Invalid Due To @ symbol\n",
    "# Noddy = 3 # Invalid Due to space before variable\n",
    "#Nod dy = 23 # Invalid Due to space in between varible\n"
   ]
  }
 ],
 "metadata": {
  "language_info": {
   "name": "python"
  }
 },
 "nbformat": 4,
 "nbformat_minor": 2
}
