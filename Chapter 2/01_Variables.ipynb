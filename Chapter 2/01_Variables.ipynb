{
 "cells": [
  {
   "cell_type": "markdown",
   "metadata": {},
   "source": [
    "### Variables and Its Types"
   ]
  },
  {
   "cell_type": "code",
   "execution_count": 3,
   "metadata": {},
   "outputs": [
    {
     "name": "stdout",
     "output_type": "stream",
     "text": [
      "1\n",
      "22.3\n",
      "Noddy\n",
      "True\n",
      "None\n"
     ]
    }
   ],
   "source": [
    "#Integer\n",
    "a = 1\n",
    "print(a)\n",
    "#Floating \n",
    "b = 22.3\n",
    "print(b)\n",
    "#Strings\n",
    "name = \"Noddy\"\n",
    "print(name)\n",
    "#Boleans\n",
    "answer = True\n",
    "print(answer)\n",
    "#None\n",
    "type = None\n",
    "print(type)"
   ]
  }
 ],
 "metadata": {
  "kernelspec": {
   "display_name": "Python 3",
   "language": "python",
   "name": "python3"
  },
  "language_info": {
   "codemirror_mode": {
    "name": "ipython",
    "version": 3
   },
   "file_extension": ".py",
   "mimetype": "text/x-python",
   "name": "python",
   "nbconvert_exporter": "python",
   "pygments_lexer": "ipython3",
   "version": "3.12.4"
  }
 },
 "nbformat": 4,
 "nbformat_minor": 2
}
