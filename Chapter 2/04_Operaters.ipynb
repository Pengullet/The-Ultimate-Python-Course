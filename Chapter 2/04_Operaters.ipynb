{
 "cells": [
  {
   "cell_type": "code",
   "execution_count": 12,
   "metadata": {},
   "outputs": [
    {
     "name": "stdout",
     "output_type": "stream",
     "text": [
      "11\n",
      "2\n",
      "3\n",
      "True\n",
      "True or False is  True\n",
      "True or True is  True\n",
      "False or True is  True\n",
      "False or False is  False\n",
      "True and False is  False\n",
      "True and True is  True\n",
      "False and True is  False\n",
      "False and False is  False\n",
      "False\n"
     ]
    }
   ],
   "source": [
    "# Arithmetic Operators\n",
    "a = 7\n",
    "b = 4\n",
    "c = a + b\n",
    "print(c)\n",
    "\n",
    "# Assignment Operators\n",
    "a = 4-2 # Assign 4-2 in a\n",
    "print(a)\n",
    "b = 6\n",
    "# b += 3 # Increment the value of b by 3 and then assign it to b\n",
    "b -= 3 # Decrement the value of b by 3 and then assign it to b\n",
    "print(b)\n",
    "\n",
    "#Comparision Operators. \n",
    "#Fact! Comparision Operators give answers in Bool\n",
    "# d = 5>4\n",
    "# d = 5<4\n",
    "# d = 5>=4\n",
    "# d = 5>=5\n",
    "# d = 5<=5\n",
    "# d = 5!=7\n",
    "d = 5==5\n",
    "print(d)\n",
    "\n",
    "# Logical Operators\n",
    "\n",
    "e = True or False\n",
    "\n",
    "# Truth table of 'or' \n",
    "print(\"True or False is \", True or False)\n",
    "print(\"True or True is \", True or True)\n",
    "print(\"False or True is \", False or True)\n",
    "print(\"False or False is \", False or False)\n",
    "\n",
    "# Truth table of 'and' \n",
    "print(\"True and False is \", True and False)\n",
    "print(\"True and True is \", True and True)\n",
    "print(\"False and True is \", False and True)\n",
    "print(\"False and False is \", False and False)\n",
    "\n",
    "print(not(True))"
   ]
  }
 ],
 "metadata": {
  "kernelspec": {
   "display_name": "Python 3",
   "language": "python",
   "name": "python3"
  },
  "language_info": {
   "codemirror_mode": {
    "name": "ipython",
    "version": 3
   },
   "file_extension": ".py",
   "mimetype": "text/x-python",
   "name": "python",
   "nbconvert_exporter": "python",
   "pygments_lexer": "ipython3",
   "version": "3.12.4"
  }
 },
 "nbformat": 4,
 "nbformat_minor": 2
}
