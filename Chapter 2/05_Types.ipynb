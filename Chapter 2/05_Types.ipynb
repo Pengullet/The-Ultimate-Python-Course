{
 "cells": [
  {
   "cell_type": "markdown",
   "metadata": {},
   "source": [
    "### Type and Type Casting in Python"
   ]
  },
  {
   "cell_type": "code",
   "execution_count": 8,
   "metadata": {},
   "outputs": [
    {
     "name": "stdout",
     "output_type": "stream",
     "text": [
      "<class 'int'>\n",
      "<class 'float'>\n",
      "<class 'str'>\n"
     ]
    },
    {
     "data": {
      "text/plain": [
       "32.0"
      ]
     },
     "execution_count": 8,
     "metadata": {},
     "output_type": "execute_result"
    }
   ],
   "source": [
    "a = 31\n",
    "t = type(a) # Class <int>\n",
    "print(t)\n",
    "\n",
    "a = 31.2\n",
    "t = type(a) # Class <float>\n",
    "print(t)\n",
    "\n",
    "a = \"Noddy\"\n",
    "t = type(a) # Class <str>\n",
    "print(t)\n",
    "\n",
    "# Type Casting\n",
    "a = 31\n",
    "str(a)\n",
    "\n",
    "b = \"32\"\n",
    "int(b)\n",
    "\n",
    "c = 32\n",
    "float(c)"
   ]
  }
 ],
 "metadata": {
  "kernelspec": {
   "display_name": "Python 3",
   "language": "python",
   "name": "python3"
  },
  "language_info": {
   "codemirror_mode": {
    "name": "ipython",
    "version": 3
   },
   "file_extension": ".py",
   "mimetype": "text/x-python",
   "name": "python",
   "nbconvert_exporter": "python",
   "pygments_lexer": "ipython3",
   "version": "3.12.4"
  }
 },
 "nbformat": 4,
 "nbformat_minor": 2
}
