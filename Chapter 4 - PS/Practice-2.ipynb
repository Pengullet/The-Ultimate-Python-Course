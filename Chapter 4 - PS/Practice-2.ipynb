{
 "cells": [
  {
   "cell_type": "markdown",
   "metadata": {},
   "source": [
    "### Write a program to accept marks of 6 students and display them in a sorted manner.\n"
   ]
  },
  {
   "cell_type": "code",
   "execution_count": 10,
   "metadata": {},
   "outputs": [
    {
     "name": "stdout",
     "output_type": "stream",
     "text": [
      "[25, 26, 32, 53, 98, 100]\n"
     ]
    }
   ],
   "source": [
    "marks = []\n",
    "\n",
    "m1 = int(input(\"Enter Marks here: \"))\n",
    "marks.append(m1)\n",
    "\n",
    "m2 = int(input(\"Enter Marks here: \"))\n",
    "marks.append(m2)\n",
    "\n",
    "m3 = int(input(\"Enter Marks here: \"))\n",
    "marks.append(m3)\n",
    "\n",
    "m4 = int(input(\"Enter Marks here: \"))\n",
    "marks.append(m4)\n",
    "\n",
    "m5 = int(input(\"Enter Marks here: \"))\n",
    "marks.append(m5)\n",
    "\n",
    "m6 = int(input(\"Enter Marks here: \"))\n",
    "marks.append(m6)\n",
    "\n",
    "marks.sort()\n",
    "print(marks)"
   ]
  }
 ],
 "metadata": {
  "kernelspec": {
   "display_name": "Python 3",
   "language": "python",
   "name": "python3"
  },
  "language_info": {
   "codemirror_mode": {
    "name": "ipython",
    "version": 3
   },
   "file_extension": ".py",
   "mimetype": "text/x-python",
   "name": "python",
   "nbconvert_exporter": "python",
   "pygments_lexer": "ipython3",
   "version": "3.12.4"
  }
 },
 "nbformat": 4,
 "nbformat_minor": 2
}
