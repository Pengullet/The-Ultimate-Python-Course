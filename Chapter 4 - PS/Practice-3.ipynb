{
 "cells": [
  {
   "cell_type": "markdown",
   "metadata": {},
   "source": [
    "### Check that a tuple type cannot be changed in python."
   ]
  },
  {
   "cell_type": "code",
   "execution_count": 2,
   "metadata": {},
   "outputs": [
    {
     "name": "stdout",
     "output_type": "stream",
     "text": [
      "(1, 45, 356, 68, 'Rohan', 'Harry', True)\n"
     ]
    }
   ],
   "source": [
    "tuple1 = (1, 45, 356, 68, \"Rohan\", \"Harry\", True)\n",
    "print(tuple1)\n",
    "# tuple1[0] = 434 # This will Throw an Error. Uncomment this to see it."
   ]
  }
 ],
 "metadata": {
  "kernelspec": {
   "display_name": "Python 3",
   "language": "python",
   "name": "python3"
  },
  "language_info": {
   "codemirror_mode": {
    "name": "ipython",
    "version": 3
   },
   "file_extension": ".py",
   "mimetype": "text/x-python",
   "name": "python",
   "nbconvert_exporter": "python",
   "pygments_lexer": "ipython3",
   "version": "3.12.4"
  }
 },
 "nbformat": 4,
 "nbformat_minor": 2
}
