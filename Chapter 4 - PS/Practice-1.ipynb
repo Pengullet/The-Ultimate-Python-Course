{
 "cells": [
  {
   "cell_type": "markdown",
   "metadata": {},
   "source": [
    "### Write a program to store seven fruits in a list entered by the user."
   ]
  },
  {
   "cell_type": "code",
   "execution_count": 1,
   "metadata": {},
   "outputs": [
    {
     "name": "stdout",
     "output_type": "stream",
     "text": [
      "['Apple', 'Banana', 'Pear', 'Grapes', 'Cherry', 'RaspBerry', 'Dragon Fruit']\n"
     ]
    }
   ],
   "source": [
    "fruits = []\n",
    "\n",
    "f1 = input(\"Enter Fruit name: \")\n",
    "fruits.append(f1)\n",
    "\n",
    "f2 = input(\"Enter Fruit name: \")\n",
    "fruits.append(f2)\n",
    "\n",
    "f3 = input(\"Enter Fruit name: \")\n",
    "fruits.append(f3)\n",
    "\n",
    "f4 = input(\"Enter Fruit name: \")\n",
    "fruits.append(f4)\n",
    "\n",
    "f5 = input(\"Enter Fruit name: \")\n",
    "fruits.append(f5)\n",
    "\n",
    "f6 = input(\"Enter Fruit name: \")\n",
    "fruits.append(f6)\n",
    "\n",
    "f7 = input(\"Enter Fruit name: \")\n",
    "fruits.append(f7)\n",
    "\n",
    "print(fruits)"
   ]
  }
 ],
 "metadata": {
  "kernelspec": {
   "display_name": "Python 3",
   "language": "python",
   "name": "python3"
  },
  "language_info": {
   "codemirror_mode": {
    "name": "ipython",
    "version": 3
   },
   "file_extension": ".py",
   "mimetype": "text/x-python",
   "name": "python",
   "nbconvert_exporter": "python",
   "pygments_lexer": "ipython3",
   "version": "3.12.4"
  }
 },
 "nbformat": 4,
 "nbformat_minor": 2
}
