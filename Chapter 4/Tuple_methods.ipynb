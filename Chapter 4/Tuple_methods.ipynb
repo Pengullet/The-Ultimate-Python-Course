{
 "cells": [
  {
   "cell_type": "markdown",
   "metadata": {},
   "source": [
    "\n",
    "## Tuple Methods in Python"
   ]
  },
  {
   "cell_type": "code",
   "execution_count": 5,
   "metadata": {},
   "outputs": [
    {
     "name": "stdout",
     "output_type": "stream",
     "text": [
      "(1, 45, 342, 3424, True, 45, 'Rohan', 'Shivam')\n",
      "2\n",
      "3\n",
      "8\n"
     ]
    }
   ],
   "source": [
    "a = (1, 45, 342, 3424, True, 45, \"Rohan\", \"Shivam\")\n",
    "print(a)\n",
    "\n",
    "no = a.count(45)\n",
    "print(no)\n",
    "\n",
    "i = a.index(3424)\n",
    "print(i)\n",
    "\n",
    "t1 = (1, 2, 3)\n",
    "t2 = (4, 5)\n",
    "t3 = t1 + t2  # Output: (1, 2, 3, 4, 5)\n",
    "\n",
    "print(len(a))\n",
    "\n",
    "# Practice: Find some more tuple Methods. You can also use Chat GPT or Google for searching and also use them."
   ]
  }
 ],
 "metadata": {
  "kernelspec": {
   "display_name": "Python 3",
   "language": "python",
   "name": "python3"
  },
  "language_info": {
   "codemirror_mode": {
    "name": "ipython",
    "version": 3
   },
   "file_extension": ".py",
   "mimetype": "text/x-python",
   "name": "python",
   "nbconvert_exporter": "python",
   "pygments_lexer": "ipython3",
   "version": "3.12.4"
  }
 },
 "nbformat": 4,
 "nbformat_minor": 2
}
