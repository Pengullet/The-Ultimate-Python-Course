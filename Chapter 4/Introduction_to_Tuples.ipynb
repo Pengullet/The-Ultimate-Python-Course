{
 "cells": [
  {
   "cell_type": "markdown",
   "metadata": {},
   "source": [
    "### Introduction to Tuples in Python."
   ]
  },
  {
   "cell_type": "code",
   "execution_count": 2,
   "metadata": {},
   "outputs": [
    {
     "name": "stdout",
     "output_type": "stream",
     "text": [
      "('Rohan', 'Shivam', 342, 3424, True)\n"
     ]
    }
   ],
   "source": [
    "# a = (1) # If you write the code like this python think that it's an tuple\n",
    "# b = (1,) # But if you want to make a tuple which has one element in it so you should and an \"COMMA (,)\" at the end of the element.\n",
    "# print(type(a))\n",
    "# print(type(b))\n",
    "name = (\"Rohan\", \"Shivam\", 342, 3424, True) # Tuples are immutable that you cannot change but but list are mutable\n",
    "print(name)\n",
    "# a[0] = 434 # This will throw an error because you cannot change a tuple."
   ]
  }
 ],
 "metadata": {
  "kernelspec": {
   "display_name": "Python 3",
   "language": "python",
   "name": "python3"
  },
  "language_info": {
   "codemirror_mode": {
    "name": "ipython",
    "version": 3
   },
   "file_extension": ".py",
   "mimetype": "text/x-python",
   "name": "python",
   "nbconvert_exporter": "python",
   "pygments_lexer": "ipython3",
   "version": "3.12.4"
  }
 },
 "nbformat": 4,
 "nbformat_minor": 2
}
