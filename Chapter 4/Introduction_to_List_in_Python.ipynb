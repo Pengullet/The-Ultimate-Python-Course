{
 "cells": [
  {
   "cell_type": "markdown",
   "metadata": {},
   "source": [
    "### Introduction to Lists and Tuples in Python"
   ]
  },
  {
   "cell_type": "code",
   "execution_count": 167,
   "metadata": {},
   "outputs": [
    {
     "name": "stdout",
     "output_type": "stream",
     "text": [
      "Grapes\n",
      "['Grapes', 'Orange']\n"
     ]
    }
   ],
   "source": [
    "friends = [\"Apple\", \"Orange\", 5, 345.06, False, \"Aakash\", \"Rohan\", None]\n",
    "friends[0] = \"Grapes\" # Unlike Strings Lists are MUTABLE.\n",
    "print(friends[0])\n",
    "print(friends[0:2])"
   ]
  }
 ],
 "metadata": {
  "kernelspec": {
   "display_name": "Python 3",
   "language": "python",
   "name": "python3"
  },
  "language_info": {
   "codemirror_mode": {
    "name": "ipython",
    "version": 3
   },
   "file_extension": ".py",
   "mimetype": "text/x-python",
   "name": "python",
   "nbconvert_exporter": "python",
   "pygments_lexer": "ipython3",
   "version": "3.12.4"
  }
 },
 "nbformat": 4,
 "nbformat_minor": 2
}
