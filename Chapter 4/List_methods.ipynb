{
 "cells": [
  {
   "cell_type": "code",
   "execution_count": 5,
   "metadata": {},
   "outputs": [
    {
     "name": "stdout",
     "output_type": "stream",
     "text": [
      "['Apple', 'Orange', 5, 345.06, False, 'Aakash', 'Rohan']\n",
      "['Apple', 'Orange', 5, 345.06, False, 'Aakash', 'Rohan', 'Harry']\n",
      "[1, 34, 62, 2, 6, 11]\n",
      "2\n"
     ]
    }
   ],
   "source": [
    "friends = [\"Apple\", \"Orange\", 5, 345.06, False, \"Aakash\", \"Rohan\"]\n",
    "print(friends)\n",
    "friends.append(\"Harry\")\n",
    "print(friends)\n",
    "\n",
    "l1 = [1, 34, 62, 2, 6, 11]\n",
    "# l1.sort()\n",
    "# l1.reverse()\n",
    "# l1.insert(2,333333) # Insert 333333 such that its index in the list is 3\n",
    "print(l1)\n",
    "value = l1.pop(3)\n",
    "print(value)"
   ]
  }
 ],
 "metadata": {
  "kernelspec": {
   "display_name": "Python 3",
   "language": "python",
   "name": "python3"
  },
  "language_info": {
   "codemirror_mode": {
    "name": "ipython",
    "version": 3
   },
   "file_extension": ".py",
   "mimetype": "text/x-python",
   "name": "python",
   "nbconvert_exporter": "python",
   "pygments_lexer": "ipython3",
   "version": "3.12.4"
  }
 },
 "nbformat": 4,
 "nbformat_minor": 2
}
