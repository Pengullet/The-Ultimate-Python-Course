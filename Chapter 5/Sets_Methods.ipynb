{
 "cells": [
  {
   "cell_type": "code",
   "execution_count": 19,
   "metadata": {},
   "outputs": [
    {
     "name": "stdout",
     "output_type": "stream",
     "text": [
      "{32, 1, 5, 54, 'Noddy'} <class 'set'>\n"
     ]
    }
   ],
   "source": [
    "s = {1, 5, 32, 54, 5, 5, 5, \"Noddy\"}\n",
    "print(s, type(s))\n",
    "# s.add(566)\n",
    "# print(s) \n",
    "# print(len(s))\n",
    "# s.remove(1)\n",
    "# print(s, type(s))\n",
    "# s.clear() # Empties the sets\n",
    "# print(s) # Search some more most used methods for sets."
   ]
  },
  {
   "cell_type": "markdown",
   "metadata": {},
   "source": [
    "### Properties of Sets\n",
    "### 1. Sets are unordered => Element’s order doesn’t matter\n",
    "### 2. Sets are unindexed => Cannot access elements by index\n",
    "### 3. There is no way to change items in sets.\n",
    "### 4. Sets cannot contain duplicate values. "
   ]
  }
 ],
 "metadata": {
  "kernelspec": {
   "display_name": "Python 3",
   "language": "python",
   "name": "python3"
  },
  "language_info": {
   "codemirror_mode": {
    "name": "ipython",
    "version": 3
   },
   "file_extension": ".py",
   "mimetype": "text/x-python",
   "name": "python",
   "nbconvert_exporter": "python",
   "pygments_lexer": "ipython3",
   "version": "3.12.4"
  }
 },
 "nbformat": 4,
 "nbformat_minor": 2
}
