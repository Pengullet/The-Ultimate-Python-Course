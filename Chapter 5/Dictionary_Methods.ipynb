{
 "cells": [
  {
   "cell_type": "markdown",
   "metadata": {},
   "source": [
    "### Dictionary methods In Python."
   ]
  },
  {
   "cell_type": "code",
   "execution_count": 4,
   "metadata": {},
   "outputs": [
    {
     "name": "stdout",
     "output_type": "stream",
     "text": [
      "None\n"
     ]
    },
    {
     "ename": "KeyError",
     "evalue": "'Noddy2'",
     "output_type": "error",
     "traceback": [
      "\u001b[1;31m---------------------------------------------------------------------------\u001b[0m",
      "\u001b[1;31mKeyError\u001b[0m                                  Traceback (most recent call last)",
      "Cell \u001b[1;32mIn[4], line 16\u001b[0m\n\u001b[0;32m      8\u001b[0m \u001b[38;5;66;03m# print(marks.items())\u001b[39;00m\n\u001b[0;32m      9\u001b[0m \u001b[38;5;66;03m# print(marks.keys())\u001b[39;00m\n\u001b[0;32m     10\u001b[0m \u001b[38;5;66;03m# print(marks.values())\u001b[39;00m\n\u001b[1;32m   (...)\u001b[0m\n\u001b[0;32m     13\u001b[0m \u001b[38;5;66;03m# print(marks.get(\"Noddy\")) # You will say that these both examples are same so you are...wrong. \u001b[39;00m\n\u001b[0;32m     14\u001b[0m \u001b[38;5;66;03m# print(marks[\"Noddy\"])\u001b[39;00m\n\u001b[0;32m     15\u001b[0m \u001b[38;5;28mprint\u001b[39m(marks\u001b[38;5;241m.\u001b[39mget(\u001b[38;5;124m\"\u001b[39m\u001b[38;5;124mNoddy2\u001b[39m\u001b[38;5;124m\"\u001b[39m)) \u001b[38;5;66;03m# This will show none\u001b[39;00m\n\u001b[1;32m---> 16\u001b[0m \u001b[38;5;28mprint\u001b[39m(\u001b[43mmarks\u001b[49m\u001b[43m[\u001b[49m\u001b[38;5;124;43m\"\u001b[39;49m\u001b[38;5;124;43mNoddy2\u001b[39;49m\u001b[38;5;124;43m\"\u001b[39;49m\u001b[43m]\u001b[49m) \u001b[38;5;66;03m# Whereas this will throw an error KeyError # Search more methods on ChatGPT or any AI tool.\u001b[39;00m\n\u001b[0;32m     17\u001b[0m \u001b[38;5;66;03m# print(len(marks))\u001b[39;00m\n",
      "\u001b[1;31mKeyError\u001b[0m: 'Noddy2'"
     ]
    }
   ],
   "source": [
    "marks = {\n",
    "    \"Noddy\": 100,\n",
    "    \"Harry\": 98,\n",
    "    \"Rohan\": 23,\n",
    "    0: \"Noddy\"\n",
    "}\n",
    "\n",
    "# print(marks.items())\n",
    "# print(marks.keys())\n",
    "# print(marks.values())\n",
    "# marks.update({\"Noddy\": 99, \"Renuka\": 100})\n",
    "# print(marks)\n",
    "# print(marks.get(\"Noddy\")) # You will say that these both examples are same so you are...wrong. \n",
    "# print(marks[\"Noddy\"])\n",
    "print(marks.get(\"Noddy2\")) # This will show none\n",
    "print(marks[\"Noddy2\"]) # Whereas this will throw an error KeyError # Search more methods on ChatGPT or any AI tool.\n",
    "# print(len(marks))"
   ]
  }
 ],
 "metadata": {
  "kernelspec": {
   "display_name": "Python 3",
   "language": "python",
   "name": "python3"
  },
  "language_info": {
   "codemirror_mode": {
    "name": "ipython",
    "version": 3
   },
   "file_extension": ".py",
   "mimetype": "text/x-python",
   "name": "python",
   "nbconvert_exporter": "python",
   "pygments_lexer": "ipython3",
   "version": "3.12.4"
  }
 },
 "nbformat": 4,
 "nbformat_minor": 2
}
