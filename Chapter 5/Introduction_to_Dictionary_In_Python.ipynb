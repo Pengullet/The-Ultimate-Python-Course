{
 "cells": [
  {
   "cell_type": "markdown",
   "metadata": {},
   "source": [
    "### Introduction to Dictionary in Python."
   ]
  },
  {
   "cell_type": "code",
   "execution_count": 1,
   "metadata": {},
   "outputs": [
    {
     "name": "stdout",
     "output_type": "stream",
     "text": [
      "100\n"
     ]
    }
   ],
   "source": [
    "s = {} # Empty Dictionary\n",
    "marks = {\n",
    "    \"Noddy\": 100,\n",
    "    \"Harry\": 98,\n",
    "    \"Rohan\": 23\n",
    "}\n",
    "\n",
    "# print(marks, type(marks))\n",
    "print(marks[\"Noddy\"]) # We can also print the value assinged to an key value. You can also search what are key value pairs in dictionary in python"
   ]
  },
  {
   "cell_type": "markdown",
   "metadata": {},
   "source": [
    "## Properties of Dictionary\n",
    "## 1. It is unordered. # It Means order Doesn't matter\n",
    "## 2. It is mutable. # It means that we can change them.\n",
    "## 3. It is indexed. # It means that it will show the corresponding value assinged to the key value.\n",
    "## 4. Cannot contain duplicate keys. # It means it doesn't contain duplicate keys. You can also search what are duplicate keys."
   ]
  }
 ],
 "metadata": {
  "kernelspec": {
   "display_name": "Python 3",
   "language": "python",
   "name": "python3"
  },
  "language_info": {
   "codemirror_mode": {
    "name": "ipython",
    "version": 3
   },
   "file_extension": ".py",
   "mimetype": "text/x-python",
   "name": "python",
   "nbconvert_exporter": "python",
   "pygments_lexer": "ipython3",
   "version": "3.12.4"
  }
 },
 "nbformat": 4,
 "nbformat_minor": 2
}
