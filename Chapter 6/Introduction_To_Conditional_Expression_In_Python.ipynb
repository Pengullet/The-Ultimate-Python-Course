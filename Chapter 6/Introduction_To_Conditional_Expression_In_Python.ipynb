{
 "cells": [
  {
   "cell_type": "markdown",
   "metadata": {},
   "source": [
    "### Introduction to Conditional Expressions in Python"
   ]
  },
  {
   "cell_type": "code",
   "execution_count": 8,
   "metadata": {},
   "outputs": [
    {
     "name": "stdout",
     "output_type": "stream",
     "text": [
      "You can Drive. Your age is:  98\n",
      "Here is you Driving Card....Beep..Kapao...booom.. Here you Go\n",
      "End of Program\n"
     ]
    }
   ],
   "source": [
    "# If Else Statement\n",
    "\n",
    "age = int(input(\"Enter Your Age: \"))\n",
    "\n",
    "if age >= 18:\n",
    "    print(\"You can Drive. Your age is:\",age)\n",
    "    print(\"Here is you Driving Card....Beep..Kapao...booom.. Here you Go\")\n",
    "\n",
    "else:\n",
    "    print(\"You cannot Drive Your age is:\",age) # The space Before this sentence if called \"Indentation\"\n",
    "\n",
    "print(\"End of Program\")"
   ]
  }
 ],
 "metadata": {
  "kernelspec": {
   "display_name": "Python 3",
   "language": "python",
   "name": "python3"
  },
  "language_info": {
   "codemirror_mode": {
    "name": "ipython",
    "version": 3
   },
   "file_extension": ".py",
   "mimetype": "text/x-python",
   "name": "python",
   "nbconvert_exporter": "python",
   "pygments_lexer": "ipython3",
   "version": "3.12.4"
  }
 },
 "nbformat": 4,
 "nbformat_minor": 2
}
