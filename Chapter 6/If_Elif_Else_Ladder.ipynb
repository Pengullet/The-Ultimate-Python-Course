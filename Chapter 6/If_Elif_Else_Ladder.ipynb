{
 "cells": [
  {
   "cell_type": "code",
   "execution_count": 6,
   "metadata": {},
   "outputs": [
    {
     "name": "stdout",
     "output_type": "stream",
     "text": [
      "You can Drive. Your age is: 98\n",
      "Here is you Driving Card....Beep..Kapao...booom.. Here you Go\n",
      "End of Program\n"
     ]
    }
   ],
   "source": [
    "age = int(input(\"Enter Your Name: \"))\n",
    "\n",
    "# If Elif Else Ladder\n",
    "\n",
    "if age >= 18:\n",
    "    print(\"You can Drive. Your age is:\",age)\n",
    "    print(\"Here is you Driving Card....Beep..Kapao...booom.. Here you Go\")\n",
    "\n",
    "elif age<0:\n",
    "    print(\"You are entering an Invalid age\")\n",
    "\n",
    "elif age == 0:\n",
    "    print(\"You are Entering 0, Which is not an valid age\") \n",
    "\n",
    "else:\n",
    "    print(\"You cannot Drive. Your age is:\",age)\n",
    "\n",
    "print(\"End of Program\")"
   ]
  }
 ],
 "metadata": {
  "kernelspec": {
   "display_name": "Python 3",
   "language": "python",
   "name": "python3"
  },
  "language_info": {
   "codemirror_mode": {
    "name": "ipython",
    "version": 3
   },
   "file_extension": ".py",
   "mimetype": "text/x-python",
   "name": "python",
   "nbconvert_exporter": "python",
   "pygments_lexer": "ipython3",
   "version": "3.12.4"
  }
 },
 "nbformat": 4,
 "nbformat_minor": 2
}
