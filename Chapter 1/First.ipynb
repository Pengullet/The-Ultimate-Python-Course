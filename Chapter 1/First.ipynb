{
 "cells": [
  {
   "cell_type": "markdown",
   "metadata": {},
   "source": [
    "### Module,Comments and PIP"
   ]
  },
  {
   "cell_type": "code",
   "execution_count": null,
   "metadata": {},
   "outputs": [],
   "source": [
    "print(\"Hello World!\")\n",
    "\n",
    "# This is a Comment\n",
    "\n",
    "\"\"\"This is an\n",
    "    amazing example\n",
    "    of a multiline\n",
    "    comment.\"\"\"\n",
    "\n",
    "# This is an\n",
    "#     amazing example\n",
    "#     of a multiline\n",
    "#     comment."
   ]
  }
 ],
 "metadata": {
  "kernelspec": {
   "display_name": "Python 3",
   "language": "python",
   "name": "python3"
  },
  "language_info": {
   "name": "python",
   "version": "3.12.4"
  }
 },
 "nbformat": 4,
 "nbformat_minor": 2
}
