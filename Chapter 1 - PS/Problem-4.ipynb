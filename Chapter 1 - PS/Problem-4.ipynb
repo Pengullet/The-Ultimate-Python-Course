{
 "cells": [
  {
   "cell_type": "markdown",
   "metadata": {},
   "source": [
    "#### Write a python program to print the contents of a directory using the os module.\n",
    "#### Search online for the function which does that."
   ]
  },
  {
   "cell_type": "code",
   "execution_count": 3,
   "metadata": {},
   "outputs": [
    {
     "name": "stdout",
     "output_type": "stream",
     "text": [
      "$Recycle.Bin\n",
      "$WinREAgent\n",
      "$WINRE_BACKUP_PARTITION.MARKER\n",
      "Config.Msi\n",
      "Documents and Settings\n",
      "DumpStack.log.tmp\n",
      "hiberfil.sys\n",
      "Intel\n",
      "MSOCache\n",
      "OneDriveTemp\n",
      "pagefile.sys\n",
      "PerfLogs\n",
      "Program Files\n",
      "Program Files (x86)\n",
      "ProgramData\n",
      "Recovery\n",
      "swapfile.sys\n",
      "System Volume Information\n",
      "Users\n",
      "WCH.CN\n",
      "Windows\n"
     ]
    }
   ],
   "source": [
    "import os\n",
    "\n",
    "directory_path = \"/\"\n",
    "contents = os.listdir(directory_path)\n",
    "for item in contents:\n",
    "    print(item)\n"
   ]
  }
 ],
 "metadata": {
  "kernelspec": {
   "display_name": "Python 3",
   "language": "python",
   "name": "python3"
  },
  "language_info": {
   "codemirror_mode": {
    "name": "ipython",
    "version": 3
   },
   "file_extension": ".py",
   "mimetype": "text/x-python",
   "name": "python",
   "nbconvert_exporter": "python",
   "pygments_lexer": "ipython3",
   "version": "3.12.4"
  }
 },
 "nbformat": 4,
 "nbformat_minor": 2
}
