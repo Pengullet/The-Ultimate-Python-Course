{
 "cells": [
  {
   "cell_type": "markdown",
   "metadata": {},
   "source": [
    "#### Write a program to calculate the grade of a student from his marks from the\n",
    "#### following scheme:\n",
    "#### 90 – 100 => Ex\n",
    "#### 80 – 90 => A\n",
    "#### 70 – 80 => B\n",
    "#### 60 – 70 =>C\n",
    "#### 50 – 60 => D\n",
    "#### <50 => F\n"
   ]
  },
  {
   "cell_type": "code",
   "execution_count": 28,
   "metadata": {},
   "outputs": [
    {
     "name": "stdout",
     "output_type": "stream",
     "text": [
      "Your Grade is:  Ex\n"
     ]
    }
   ],
   "source": [
    "#Marks = int(input(\"Enter Your Marks: \"))\n",
    "#if Marks < 100 or Marks >= 90:\n",
    "#    grade = \"Ex\"\n",
    "#elif Marks < 90 or Marks >= 80:\n",
    "#    grade = \"A\"\n",
    "#elif Marks < 80 or Marks >= 70:\n",
    "#    grade = \"B\"\n",
    "#elif Marks < 70 or Marks >= 60:\n",
    "#    grade = \"C\"\n",
    "#elif Marks < 60 or Marks >= 50:\n",
    "#    grade = \"D\"\n",
    "#elif Marks < 50:\n",
    "#    grade = \"F\"\n",
    "\n",
    "#print(\"Your Grade is: \",grade)"
   ]
  }
 ],
 "metadata": {
  "kernelspec": {
   "display_name": "Python 3",
   "language": "python",
   "name": "python3"
  },
  "language_info": {
   "codemirror_mode": {
    "name": "ipython",
    "version": 3
   },
   "file_extension": ".py",
   "mimetype": "text/x-python",
   "name": "python",
   "nbconvert_exporter": "python",
   "pygments_lexer": "ipython3",
   "version": "3.12.6"
  }
 },
 "nbformat": 4,
 "nbformat_minor": 2
}
