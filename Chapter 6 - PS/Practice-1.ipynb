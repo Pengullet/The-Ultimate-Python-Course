{
 "cells": [
  {
   "cell_type": "markdown",
   "metadata": {},
   "source": [
    "### Write a program to find the greatest of four numbers entered by the user."
   ]
  },
  {
   "cell_type": "code",
   "execution_count": 12,
   "metadata": {},
   "outputs": [
    {
     "name": "stdout",
     "output_type": "stream",
     "text": [
      "Greatest Number is a1: 232\n"
     ]
    }
   ],
   "source": [
    "a1 = int(input(\"Enter number 1: \"))\n",
    "a2 = int(input(\"Enter number 1: \"))\n",
    "a3 = int(input(\"Enter number 1: \"))\n",
    "a4 = int(input(\"Enter number 1: \"))\n",
    "\n",
    "if a1>a2 and a1>a3 and a1>a4:\n",
    "    print(\"Greatest Number is a1:\",a1)\n",
    "\n",
    "if a2>a1 and a2>a3 and a2>a4:\n",
    "    print(\"Greatest Number is a1:\",a2)\n",
    "\n",
    "if a3>a1 and a3>a2 and a3>a4:\n",
    "    print(\"Greatest Number is a1:\",a3)\n",
    "\n",
    "if a4>a1 and a4>a2 and a4>a3:\n",
    "    print(\"Greatest Number is a1:\",a4)"
   ]
  }
 ],
 "metadata": {
  "kernelspec": {
   "display_name": "Python 3",
   "language": "python",
   "name": "python3"
  },
  "language_info": {
   "codemirror_mode": {
    "name": "ipython",
    "version": 3
   },
   "file_extension": ".py",
   "mimetype": "text/x-python",
   "name": "python",
   "nbconvert_exporter": "python",
   "pygments_lexer": "ipython3",
   "version": "3.12.4"
  }
 },
 "nbformat": 4,
 "nbformat_minor": 2
}
