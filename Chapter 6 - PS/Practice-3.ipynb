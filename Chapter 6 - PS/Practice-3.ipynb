{
 "cells": [
  {
   "cell_type": "markdown",
   "metadata": {},
   "source": [
    "### A spam comment is defined as a text containing following keywords: “Make a lot of money”, “buy now”, “subscribe this”, “click this”. Write a program to detect these spams."
   ]
  },
  {
   "cell_type": "code",
   "execution_count": 1,
   "metadata": {},
   "outputs": [
    {
     "name": "stdout",
     "output_type": "stream",
     "text": [
      "This Comment is not a Spam\n"
     ]
    }
   ],
   "source": [
    "Words = [\"make a lot of money\", \"buy now\", \"subscribe this\", \"click this\"]\n",
    "sentence = str(input())\n",
    "if sentence == \"make a lot of money\":\n",
    "    print(\"Scam Alert!!\")\n",
    "elif sentence == \"click this\":\n",
    "    print(\"Scam ALert!!\")\n",
    "elif sentence == \"buy now\":\n",
    "    print(\"Scam ALert!!\")\n",
    "elif sentence == \"subscribe this\":\n",
    "    print(\"Scam ALert!!\")\n",
    "else:\n",
    "    print(\"This Comment is not a Spam\")"
   ]
  }
 ],
 "metadata": {
  "kernelspec": {
   "display_name": "Python 3",
   "language": "python",
   "name": "python3"
  },
  "language_info": {
   "codemirror_mode": {
    "name": "ipython",
    "version": 3
   },
   "file_extension": ".py",
   "mimetype": "text/x-python",
   "name": "python",
   "nbconvert_exporter": "python",
   "pygments_lexer": "ipython3",
   "version": "3.12.6"
  }
 },
 "nbformat": 4,
 "nbformat_minor": 2
}
