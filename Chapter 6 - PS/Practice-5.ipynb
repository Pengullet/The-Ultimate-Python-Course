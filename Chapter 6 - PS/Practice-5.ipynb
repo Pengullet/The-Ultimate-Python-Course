{
 "cells": [
  {
   "cell_type": "markdown",
   "metadata": {},
   "source": [
    "### Write a program which finds out whether a given name is present in a list or not"
   ]
  },
  {
   "cell_type": "code",
   "execution_count": 7,
   "metadata": {},
   "outputs": [
    {
     "name": "stdout",
     "output_type": "stream",
     "text": [
      "Yes The name is in the list\n"
     ]
    }
   ],
   "source": [
    "l = [\"Noddy\", \"Mummy\", \"Papa\", \"Bhaiya\"]\n",
    "name = input(\"Enter your name: \")\n",
    "if name in l:\n",
    "    print(\"Yes The name is in the list\")\n",
    "else:\n",
    "    print(\"The name is not in the list\")"
   ]
  }
 ],
 "metadata": {
  "kernelspec": {
   "display_name": "Python 3",
   "language": "python",
   "name": "python3"
  },
  "language_info": {
   "codemirror_mode": {
    "name": "ipython",
    "version": 3
   },
   "file_extension": ".py",
   "mimetype": "text/x-python",
   "name": "python",
   "nbconvert_exporter": "python",
   "pygments_lexer": "ipython3",
   "version": "3.12.6"
  }
 },
 "nbformat": 4,
 "nbformat_minor": 2
}
