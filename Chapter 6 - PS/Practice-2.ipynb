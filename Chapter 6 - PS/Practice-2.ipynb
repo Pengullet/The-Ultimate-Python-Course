{
 "cells": [
  {
   "cell_type": "markdown",
   "metadata": {},
   "source": [
    "### Write a program to find out whether a student has passed or failed if it requires a total of 40% and at least 33% in each subject to pass. Assume 3 subjects and take marks as an input from the user.\n"
   ]
  },
  {
   "cell_type": "code",
   "execution_count": 3,
   "metadata": {},
   "outputs": [
    {
     "name": "stdout",
     "output_type": "stream",
     "text": [
      "You are Failed\n",
      "0\n"
     ]
    }
   ],
   "source": [
    "Maths = int(input(\"Enter Marks:\"))\n",
    "English = int(input(\"Enter Marks:\"))\n",
    "SSt = int(input(\"Enter Marks:\"))\n",
    "\n",
    "Total = Maths % English % SSt\n",
    "\n",
    "\n",
    "if Total > 40:\n",
    "    print(\"You are Passed\")\n",
    "    print(Total)\n",
    "else:\n",
    "    print(\"You are Failed\")\n",
    "    print(Total)"
   ]
  }
 ],
 "metadata": {
  "kernelspec": {
   "display_name": "Python 3",
   "language": "python",
   "name": "python3"
  },
  "language_info": {
   "codemirror_mode": {
    "name": "ipython",
    "version": 3
   },
   "file_extension": ".py",
   "mimetype": "text/x-python",
   "name": "python",
   "nbconvert_exporter": "python",
   "pygments_lexer": "ipython3",
   "version": "3.12.4"
  }
 },
 "nbformat": 4,
 "nbformat_minor": 2
}
