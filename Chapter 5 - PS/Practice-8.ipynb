{
 "cells": [
  {
   "cell_type": "markdown",
   "metadata": {},
   "source": [
    "### If languages of two friends are same; what will happen to the program in problem 6?"
   ]
  },
  {
   "cell_type": "code",
   "execution_count": 1,
   "metadata": {},
   "outputs": [
    {
     "name": "stdout",
     "output_type": "stream",
     "text": [
      "{'Daksh': 'Python', 'Noddy': 'Python', 'Chetan': 'C++', 'Shubham': 'Js'}\n"
     ]
    }
   ],
   "source": [
    "# We are going to take the same example. So if the languages of two friends are same it will be printed.\n",
    "# But the name should not be same.\n",
    "\n",
    "d = {}\n",
    "\n",
    "name = input(\"Enter Your Name: \")\n",
    "lang = input(\"Enter the Language\")\n",
    "\n",
    "d.update({name: lang})\n",
    "\n",
    "name = input(\"Enter Your Name: \")\n",
    "lang = input(\"Enter the Language\")\n",
    "\n",
    "d.update({name: lang})\n",
    "\n",
    "name = input(\"Enter Your Name: \")\n",
    "lang = input(\"Enter the Language\")\n",
    "\n",
    "d.update({name: lang})\n",
    "\n",
    "name = input(\"Enter Your Name: \")\n",
    "lang = input(\"Enter the Language\")\n",
    "\n",
    "d.update({name: lang})\n",
    "\n",
    "print(d)"
   ]
  }
 ],
 "metadata": {
  "kernelspec": {
   "display_name": "Python 3",
   "language": "python",
   "name": "python3"
  },
  "language_info": {
   "codemirror_mode": {
    "name": "ipython",
    "version": 3
   },
   "file_extension": ".py",
   "mimetype": "text/x-python",
   "name": "python",
   "nbconvert_exporter": "python",
   "pygments_lexer": "ipython3",
   "version": "3.12.4"
  }
 },
 "nbformat": 4,
 "nbformat_minor": 2
}
