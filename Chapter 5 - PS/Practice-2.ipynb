{
 "cells": [
  {
   "cell_type": "markdown",
   "metadata": {},
   "source": [
    "### Write a program to input eight numbers from the user and display all the unique numbers (once).\n"
   ]
  },
  {
   "cell_type": "code",
   "execution_count": 3,
   "metadata": {},
   "outputs": [
    {
     "name": "stdout",
     "output_type": "stream",
     "text": [
      "{1, 2, 3, 5, 6, 8, 9}\n"
     ]
    }
   ],
   "source": [
    "s = set()\n",
    "n = (int(input(\"Enter the number: \")))\n",
    "s.add(n)\n",
    "n = (int(input(\"Enter the number: \")))\n",
    "s.add(n)\n",
    "n = (int(input(\"Enter the number: \")))\n",
    "s.add(n)\n",
    "n = (int(input(\"Enter the number: \")))\n",
    "s.add(n)\n",
    "n = (int(input(\"Enter the number: \")))\n",
    "s.add(n)\n",
    "n = (int(input(\"Enter the number: \")))\n",
    "s.add(n)\n",
    "n = (int(input(\"Enter the number: \")))\n",
    "s.add(n)\n",
    "n = (int(input(\"Enter the number: \")))\n",
    "s.add(n)\n",
    "print(s)\n"
   ]
  }
 ],
 "metadata": {
  "kernelspec": {
   "display_name": "Python 3",
   "language": "python",
   "name": "python3"
  },
  "language_info": {
   "codemirror_mode": {
    "name": "ipython",
    "version": 3
   },
   "file_extension": ".py",
   "mimetype": "text/x-python",
   "name": "python",
   "nbconvert_exporter": "python",
   "pygments_lexer": "ipython3",
   "version": "3.12.4"
  }
 },
 "nbformat": 4,
 "nbformat_minor": 2
}
