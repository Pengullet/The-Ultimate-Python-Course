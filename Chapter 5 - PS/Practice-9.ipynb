{
 "cells": [
  {
   "cell_type": "markdown",
   "metadata": {},
   "source": [
    "### Can you change the values inside a list which is contained in set S?"
   ]
  },
  {
   "cell_type": "code",
   "execution_count": null,
   "metadata": {},
   "outputs": [],
   "source": [
    "s = {8, 7, 12, \"Noddy\", [1,2]}\n",
    "\n",
    "# No, you cannot directly change the values inside a list that is contained within a set in Python. This is because elements in a set must be immutable (i.e., they cannot be changed after they are added to the set), and lists are mutable objects. Therefore, Python does not allow lists to be elements of a set."
   ]
  }
 ],
 "metadata": {
  "language_info": {
   "name": "python"
  }
 },
 "nbformat": 4,
 "nbformat_minor": 2
}
