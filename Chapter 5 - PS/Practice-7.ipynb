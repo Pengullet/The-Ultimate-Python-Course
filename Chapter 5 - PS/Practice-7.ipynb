{
 "cells": [
  {
   "cell_type": "markdown",
   "metadata": {},
   "source": [
    "### If the names of 2 friends are same; what will happen to the program in problem 6?"
   ]
  },
  {
   "cell_type": "code",
   "execution_count": 2,
   "metadata": {},
   "outputs": [
    {
     "name": "stdout",
     "output_type": "stream",
     "text": [
      "{'Noddy': 'C++', 'Chetan': 'Python', 'Rohan': 'js'}\n"
     ]
    }
   ],
   "source": [
    "# If we take this example so if we write like this if names of 2 friends are same: Rohan:C++, Rohan:Cpp\n",
    "# So the value written afterwards will be printed. I mean Rohan will be printed only once.\n",
    "# I hope you understood this.\n",
    "\n",
    "d = {}\n",
    "\n",
    "name = input(\"Enter Your Name: \")\n",
    "lang = input(\"Enter the Language\")\n",
    "\n",
    "d.update({name: lang})\n",
    "\n",
    "name = input(\"Enter Your Name: \")\n",
    "lang = input(\"Enter the Language\")\n",
    "\n",
    "d.update({name: lang})\n",
    "\n",
    "name = input(\"Enter Your Name: \")\n",
    "lang = input(\"Enter the Language\")\n",
    "\n",
    "d.update({name: lang})\n",
    "\n",
    "name = input(\"Enter Your Name: \")\n",
    "lang = input(\"Enter the Language\")\n",
    "\n",
    "d.update({name: lang})\n",
    "\n",
    "print(d)\n"
   ]
  }
 ],
 "metadata": {
  "kernelspec": {
   "display_name": "Python 3",
   "language": "python",
   "name": "python3"
  },
  "language_info": {
   "codemirror_mode": {
    "name": "ipython",
    "version": 3
   },
   "file_extension": ".py",
   "mimetype": "text/x-python",
   "name": "python",
   "nbconvert_exporter": "python",
   "pygments_lexer": "ipython3",
   "version": "3.12.4"
  }
 },
 "nbformat": 4,
 "nbformat_minor": 2
}
