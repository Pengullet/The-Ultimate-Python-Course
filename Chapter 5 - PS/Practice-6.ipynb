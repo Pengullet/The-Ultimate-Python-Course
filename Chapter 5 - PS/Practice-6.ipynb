{
 "cells": [
  {
   "cell_type": "markdown",
   "metadata": {},
   "source": [
    "### Create an empty dictionary. Allow 4 friends to enter their favorite language as value and use key as their names. Assume that the names are unique."
   ]
  },
  {
   "cell_type": "code",
   "execution_count": 5,
   "metadata": {},
   "outputs": [
    {
     "name": "stdout",
     "output_type": "stream",
     "text": [
      "{'Daksh': 'Python', 'Noddy': 'Java', 'Aru': 'C++', 'Papa ': 'C#'}\n"
     ]
    }
   ],
   "source": [
    "d = {}\n",
    "\n",
    "name = input(\"Enter Your Name: \")\n",
    "lang = input(\"Enter the Language\")\n",
    "\n",
    "d.update({name: lang})\n",
    "\n",
    "name = input(\"Enter Your Name: \")\n",
    "lang = input(\"Enter the Language\")\n",
    "\n",
    "d.update({name: lang})\n",
    "\n",
    "name = input(\"Enter Your Name: \")\n",
    "lang = input(\"Enter the Language\")\n",
    "\n",
    "d.update({name: lang})\n",
    "\n",
    "name = input(\"Enter Your Name: \")\n",
    "lang = input(\"Enter the Language\")\n",
    "\n",
    "d.update({name: lang})\n",
    "\n",
    "print(d)"
   ]
  }
 ],
 "metadata": {
  "kernelspec": {
   "display_name": "Python 3",
   "language": "python",
   "name": "python3"
  },
  "language_info": {
   "codemirror_mode": {
    "name": "ipython",
    "version": 3
   },
   "file_extension": ".py",
   "mimetype": "text/x-python",
   "name": "python",
   "nbconvert_exporter": "python",
   "pygments_lexer": "ipython3",
   "version": "3.12.4"
  }
 },
 "nbformat": 4,
 "nbformat_minor": 2
}
