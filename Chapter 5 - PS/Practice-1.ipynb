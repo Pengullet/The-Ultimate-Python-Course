{
 "cells": [
  {
   "cell_type": "markdown",
   "metadata": {},
   "source": [
    "### Write a program to create a dictionary of Hindi words with values as their English translation. Provide user with an option to look it up!.\n"
   ]
  },
  {
   "cell_type": "code",
   "execution_count": null,
   "metadata": {},
   "outputs": [],
   "source": [
    "words = {\n",
    "    \"madad\": \"Help\",\n",
    "    \"kursi\": \"Chair\",\n",
    "    \"Billi\": \"Cat\"\n",
    "}\n",
    "\n",
    "word = input(\"Enter the word of which you want the meaning of: \")\n",
    "print(words[word])"
   ]
  }
 ],
 "metadata": {
  "language_info": {
   "name": "python"
  }
 },
 "nbformat": 4,
 "nbformat_minor": 2
}
