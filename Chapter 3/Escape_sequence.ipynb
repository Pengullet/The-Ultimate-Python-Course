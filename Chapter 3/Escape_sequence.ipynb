{
 "cells": [
  {
   "cell_type": "code",
   "execution_count": 6,
   "metadata": {},
   "outputs": [
    {
     "name": "stdout",
     "output_type": "stream",
     "text": [
      "Noddy is a good boy\n",
      "But not a bad \"boy\"\n"
     ]
    }
   ],
   "source": [
    "a = \"Noddy is a good boy\\nBut not a bad boy\"\n",
    "# a = \"Noddy is a good boy\\nBut not a bad \\\"boy\\\"\"\n",
    "# a = \"Noddy is a good boy\\tBut not a bad boy\"\n",
    "\n",
    "print(a)"
   ]
  }
 ],
 "metadata": {
  "kernelspec": {
   "display_name": "Python 3",
   "language": "python",
   "name": "python3"
  },
  "language_info": {
   "codemirror_mode": {
    "name": "ipython",
    "version": 3
   },
   "file_extension": ".py",
   "mimetype": "text/x-python",
   "name": "python",
   "nbconvert_exporter": "python",
   "pygments_lexer": "ipython3",
   "version": "3.12.4"
  }
 },
 "nbformat": 4,
 "nbformat_minor": 2
}
