{
 "cells": [
  {
   "cell_type": "markdown",
   "metadata": {},
   "source": [
    "### Introduction of Strings in Python"
   ]
  },
  {
   "cell_type": "code",
   "execution_count": 40,
   "metadata": {},
   "outputs": [
    {
     "name": "stdout",
     "output_type": "stream",
     "text": [
      "Noddy\n",
      "Nodd\n"
     ]
    }
   ],
   "source": [
    "a ='Noddy' # Single quoted string\n",
    "b = \"Noddy\" # Double quoted string\n",
    "c = '''Noddy''' # Triple quoted string\n",
    "\n",
    "# String Slicing in Python.\n",
    "name = \"Noddy\"\n",
    "# nameshort = len(name)\n",
    "nameshort = name[0:5]\n",
    "print(nameshort)\n",
    "character1 = name[1]\n",
    "print(character1)\n"
   ]
  }
 ],
 "metadata": {
  "kernelspec": {
   "display_name": "Python 3",
   "language": "python",
   "name": "python3"
  },
  "language_info": {
   "codemirror_mode": {
    "name": "ipython",
    "version": 3
   },
   "file_extension": ".py",
   "mimetype": "text/x-python",
   "name": "python",
   "nbconvert_exporter": "python",
   "pygments_lexer": "ipython3",
   "version": "3.12.4"
  }
 },
 "nbformat": 4,
 "nbformat_minor": 2
}
