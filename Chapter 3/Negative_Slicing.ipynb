{
 "cells": [
  {
   "cell_type": "markdown",
   "metadata": {},
   "source": [
    "### Negative Slicing in Python"
   ]
  },
  {
   "cell_type": "code",
   "execution_count": 1,
   "metadata": {},
   "outputs": [
    {
     "name": "stdout",
     "output_type": "stream",
     "text": [
      "Nod\n",
      "odd\n",
      "odd\n",
      "Nodd\n",
      "oddy\n"
     ]
    }
   ],
   "source": [
    "name = \"Noddy\"\n",
    "print(name[0:3])\n",
    "print(name[-4: -1])\n",
    "print(name[1:4])\n",
    "\n",
    "print(name[:4])\n",
    "print(name[1:])"
   ]
  }
 ],
 "metadata": {
  "kernelspec": {
   "display_name": "Python 3",
   "language": "python",
   "name": "python3"
  },
  "language_info": {
   "codemirror_mode": {
    "name": "ipython",
    "version": 3
   },
   "file_extension": ".py",
   "mimetype": "text/x-python",
   "name": "python",
   "nbconvert_exporter": "python",
   "pygments_lexer": "ipython3",
   "version": "3.12.4"
  }
 },
 "nbformat": 4,
 "nbformat_minor": 2
}
